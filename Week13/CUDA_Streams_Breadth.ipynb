{
  "nbformat": 4,
  "nbformat_minor": 0,
  "metadata": {
    "colab": {
      "name": "CUDA_Streams_Breadth.ipynb",
      "provenance": [],
      "collapsed_sections": [],
      "include_colab_link": true
    },
    "kernelspec": {
      "name": "python3",
      "display_name": "Python 3"
    },
    "language_info": {
      "name": "python"
    },
    "accelerator": "GPU"
  },
  "cells": [
    {
      "cell_type": "markdown",
      "metadata": {
        "id": "view-in-github",
        "colab_type": "text"
      },
      "source": [
        "<a href=\"https://colab.research.google.com/github/mmmovania/CUDA_Spring2022_GoogleColabs/blob/main/Week13/CUDA_Streams_Breadth.ipynb\" target=\"_parent\"><img src=\"https://colab.research.google.com/assets/colab-badge.svg\" alt=\"Open In Colab\"/></a>"
      ]
    },
    {
      "cell_type": "code",
      "execution_count": 1,
      "metadata": {
        "colab": {
          "base_uri": "https://localhost:8080/"
        },
        "id": "OB2MY3st-VUm",
        "outputId": "84461286-a653-4559-ff78-e27e5f832429"
      },
      "outputs": [
        {
          "output_type": "stream",
          "name": "stdout",
          "text": [
            "/usr/local\n",
            "  File: cuda -> /usr/local/cuda-10.1\n",
            "  Size: 20        \tBlocks: 0          IO Block: 4096   symbolic link\n",
            "Device: 24h/36d\tInode: 3276803     Links: 1\n",
            "Access: (0777/lrwxrwxrwx)  Uid: (    0/    root)   Gid: (    0/    root)\n",
            "Access: 2022-04-14 19:54:44.533536995 +0000\n",
            "Modify: 2022-04-14 19:54:44.412537155 +0000\n",
            "Change: 2022-04-14 19:54:44.412537155 +0000\n",
            " Birth: -\n",
            "Collecting git+https://github.com/andreinechaev/nvcc4jupyter.git\n",
            "  Cloning https://github.com/andreinechaev/nvcc4jupyter.git to /tmp/pip-req-build-tcb47z4s\n",
            "  Running command git clone -q https://github.com/andreinechaev/nvcc4jupyter.git /tmp/pip-req-build-tcb47z4s\n",
            "Building wheels for collected packages: NVCCPlugin\n",
            "  Building wheel for NVCCPlugin (setup.py) ... \u001b[?25l\u001b[?25hdone\n",
            "  Created wheel for NVCCPlugin: filename=NVCCPlugin-0.0.2-py3-none-any.whl size=4306 sha256=fe9353eb5c8dbdf7ab5ef9cbe8dc300b785310b77de414c5b12606f412fda46c\n",
            "  Stored in directory: /tmp/pip-ephem-wheel-cache-7sjd3q8n/wheels/ca/33/8d/3c86eb85e97d2b6169d95c6e8f2c297fdec60db6e84cb56f5e\n",
            "Successfully built NVCCPlugin\n",
            "Installing collected packages: NVCCPlugin\n",
            "Successfully installed NVCCPlugin-0.0.2\n",
            "directory /usr/local/src already exists\n",
            "Out bin /usr/local/result.out\n"
          ]
        }
      ],
      "source": [
        "%cd /usr/local/\n",
        "!rm -rf cuda\n",
        "!ln -s /usr/local/cuda-10.1 /usr/local/cuda\n",
        "!stat cuda\n",
        "!pip install git+https://github.com/andreinechaev/nvcc4jupyter.git\n",
        "%load_ext nvcc_plugin"
      ]
    },
    {
      "cell_type": "code",
      "source": [
        "%%cu\n",
        "\n",
        "#include <stdio.h>\n",
        "\n",
        "#define N 1000000000\n",
        "#define NSTREAM 4\n",
        "\n",
        "inline cudaError_t checkCudaErr(cudaError_t err, const char* msg) {\n",
        "\tif (err != cudaSuccess) {\n",
        "\t\tfprintf(stderr, \"CUDA Runtime error at %s: %s\\n\", msg, cudaGetErrorString(err));\n",
        "\t}\n",
        "\treturn err;\n",
        "}\n",
        "\n",
        "__global__ void kernel_1() \n",
        "{\n",
        "\tdouble sum = 0.0;\n",
        "\tfor(int i = 0; i < N; i++)\n",
        "  {\n",
        "\t\t\tsum += sum + tan(0.1) * tan(0.1);\n",
        "\t}\n",
        "}\n",
        "\n",
        "__global__ void kernel_2() \n",
        "{\n",
        "\tdouble sum = 0.0;\n",
        "\tfor(int i = 0; i < N; i++)\n",
        "  {\n",
        "\t\t\tsum += sum + tan(0.1) * tan(0.1);\n",
        "\t}\n",
        "}\n",
        "\n",
        "__global__ void kernel_3() \n",
        "{\n",
        "\tdouble sum = 0.0;\n",
        "\tfor(int i = 0; i < N; i++)\n",
        "  {\n",
        "\t\t\tsum += sum + tan(0.1) * tan(0.1);\n",
        "\t}\n",
        "}\n",
        "\n",
        "__global__ void kernel_4() \n",
        "{\n",
        "\tdouble sum = 0.0;\n",
        "\tfor(int i = 0; i < N; i++)\n",
        "  {\n",
        "\t\t\tsum += sum + tan(0.1) * tan(0.1);\n",
        "\t}\n",
        "}\n",
        "\n",
        "int main() \n",
        "{ \n",
        "\tfloat elapsed_time = 0;\n",
        "\tint bigcase = 1;\n",
        "\tint isize = 1;\n",
        "  int iblock = 1;\n",
        "\t\n",
        "\tconst int n_streams = NSTREAM;\n",
        "\tcudaStream_t* streams = (cudaStream_t*) malloc(n_streams * sizeof(cudaStream_t));\n",
        "\t\n",
        "\tfor (int i = 0 ; i < n_streams; i++) \n",
        "  {\n",
        "     checkCudaErr(cudaStreamCreate(&streams[i]), \"stream creation\");\n",
        "\t}\n",
        "  \n",
        "\t\n",
        "    // run kernel with more threads\n",
        "    if (bigcase == 1)\n",
        "    {\n",
        "        iblock = 512;\n",
        "        isize = 1 << 12;\n",
        "    }\n",
        "\n",
        "    // set up execution configuration\n",
        "    dim3 block (iblock);\n",
        "    dim3 grid  (isize / iblock);\n",
        "  \n",
        "\t// creat events\n",
        "  cudaEvent_t start, stop;\n",
        "  checkCudaErr(cudaEventCreate(&start), \"event create (start)\");\n",
        "  checkCudaErr(cudaEventCreate(&stop), \"event create (stop)\");\n",
        "\n",
        "  // record start event\n",
        "  checkCudaErr(cudaEventRecord(start, 0), \"cudaEventRecord(start)\");\n",
        "\t\n",
        "\tfor(int i=0; i<n_streams; ++i)  \n",
        "\t\t\tkernel_1 <<< grid, block, 0, streams[i] >>> ();\n",
        "\tfor(int i=0; i<n_streams; ++i)  \n",
        "\t\t\tkernel_2 <<< grid, block, 0, streams[i] >>> ();\n",
        "\tfor(int i=0; i<n_streams; ++i)  \n",
        "\t\t\tkernel_3 <<< grid, block, 0, streams[i] >>> ();\n",
        "\tfor(int i=0; i<n_streams; ++i)  \n",
        "\t\t\tkernel_4 <<< grid, block, 0, streams[i] >>> ();\n",
        "\t \n",
        "  // record stop event\n",
        "  checkCudaErr(cudaEventRecord(stop, 0), \"cudaEventRecord\");\n",
        "  checkCudaErr(cudaEventSynchronize(stop), \"cudaEventSynchronize\");\n",
        "\t\n",
        "\t// calculate elapsed time\n",
        "  checkCudaErr(cudaEventElapsedTime(&elapsed_time, start, stop), \"cudaEventElapsedTime\");\n",
        "\tprintf(\"Measured time for parallel execution = %.3fs\\n\", elapsed_time / 1000.0f);\n",
        "\t\n",
        "\t// release all stream\n",
        "\tfor (int i = 0 ; i < n_streams ; i++)\n",
        "  {\n",
        "     checkCudaErr(cudaStreamDestroy(streams[i]), \"cudaStreamDestroy\");\n",
        "  }\n",
        "\n",
        "  free(streams);\n",
        "\t\n",
        "\t// free memory on the gpu side\n",
        "  // destroy events\n",
        "  checkCudaErr(cudaEventDestroy(start), \"cudaEventDestroy(start)\");\n",
        "  checkCudaErr(cudaEventDestroy(stop), \"cudaEventDestroy(stop)\");\n",
        "\tcheckCudaErr( cudaDeviceReset(), \"cudaDeviceReset\");\n",
        "\n",
        "\treturn 0;\n",
        "}"
      ],
      "metadata": {
        "colab": {
          "base_uri": "https://localhost:8080/"
        },
        "id": "GYZ627HO-XKd",
        "outputId": "83ef5fea-c1af-4d25-d58e-5839327db688"
      },
      "execution_count": 2,
      "outputs": [
        {
          "output_type": "stream",
          "name": "stdout",
          "text": [
            "Measured time for parallel execution = 0.000s\n",
            "\n"
          ]
        }
      ]
    }
  ]
}